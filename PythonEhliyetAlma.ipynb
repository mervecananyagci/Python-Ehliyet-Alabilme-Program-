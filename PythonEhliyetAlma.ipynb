{
  "nbformat": 4,
  "nbformat_minor": 0,
  "metadata": {
    "colab": {
      "provenance": [],
      "authorship_tag": "ABX9TyPsE10cg0r3LnJV0UWPdCrj",
      "include_colab_link": true
    },
    "kernelspec": {
      "name": "python3",
      "display_name": "Python 3"
    },
    "language_info": {
      "name": "python"
    }
  },
  "cells": [
    {
      "cell_type": "markdown",
      "metadata": {
        "id": "view-in-github",
        "colab_type": "text"
      },
      "source": [
        "<a href=\"https://colab.research.google.com/github/mervecananyagci/Python-Ehliyet-Alabilme-Program-/blob/main/PythonEhliyetAlma.ipynb\" target=\"_parent\"><img src=\"https://colab.research.google.com/assets/colab-badge.svg\" alt=\"Open In Colab\"/></a>"
      ]
    },
    {
      "cell_type": "code",
      "execution_count": 2,
      "metadata": {
        "id": "wRE85YeBaUb5"
      },
      "outputs": [],
      "source": [
        "def cins(cinsiyet):\n",
        "    if cinsiyet.lower() == \"erkek\":\n",
        "        return \"Bey\"\n",
        "    elif cinsiyet.lower() == \"kadın\":\n",
        "        return \"Hanım\"\n",
        "    else:\n",
        "        return \"\""
      ]
    },
    {
      "cell_type": "code",
      "source": [
        "ad = input(\"Adınızı girin: \")\n",
        "yas = int(input(\"Yaşınızı girin: \"))\n",
        "cinsiyet = input(\"Cinsiyetinizi girin: \")\n",
        "mezun = input(\"Öğreniminizi girin(Lise/Üniversite): \")\n",
        "hos = \"Hoşgeldiniz {} {}. {} yaşındasınız. {} mezunu olduğunuz için ehliyet alabilirsiniz. Unutmayın, trafik kurallarına dikkat edin {} {}.\"\n",
        "hoss = hos.format(ad,cins(cinsiyet),yas,mezun,ad,cins(cinsiyet))\n",
        "\n",
        "if yas >= 18:\n",
        "    if yas >= 18 and mezun.lower() == \"lise\":\n",
        "      print(hoss)\n",
        "    elif yas >= 18 and mezun.lower() == \"üniversite\":\n",
        "      print(hoss)\n",
        "    else:\n",
        "      print(\"Ehliyet almanız için en az lise menuzu olmanız gerekir.\")\n",
        "else:\n",
        "  print(\"Ehliyet alamazsınız. Yaşınız 18'den küçük.\")\n"
      ],
      "metadata": {
        "id": "wWS6R6Lua-to"
      },
      "execution_count": null,
      "outputs": []
    },
    {
      "cell_type": "code",
      "source": [],
      "metadata": {
        "id": "_gcyeXPvWS-V"
      },
      "execution_count": null,
      "outputs": []
    }
  ]
}