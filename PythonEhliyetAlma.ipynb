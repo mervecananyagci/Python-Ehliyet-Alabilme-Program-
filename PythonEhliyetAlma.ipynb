{
  "nbformat": 4,
  "nbformat_minor": 0,
  "metadata": {
    "colab": {
      "provenance": [],
      "authorship_tag": "ABX9TyMYcHE7VB9r0YfKxmC8vk8x",
      "include_colab_link": true
    },
    "kernelspec": {
      "name": "python3",
      "display_name": "Python 3"
    },
    "language_info": {
      "name": "python"
    }
  },
  "cells": [
    {
      "cell_type": "markdown",
      "metadata": {
        "id": "view-in-github",
        "colab_type": "text"
      },
      "source": [
        "<a href=\"https://colab.research.google.com/github/mervecananyagci/Python-Ehliyet-Alabilme-Program-/blob/main/PythonEhliyetAlma.ipynb\" target=\"_parent\"><img src=\"https://colab.research.google.com/assets/colab-badge.svg\" alt=\"Open In Colab\"/></a>"
      ]
    },
    {
      "cell_type": "code",
      "execution_count": 1,
      "metadata": {
        "id": "wRE85YeBaUb5"
      },
      "outputs": [],
      "source": [
        "def cins(cinsiyet):\n",
        "    if cinsiyet.lower() == \"erkek\":\n",
        "        return \"Bey\"\n",
        "    elif cinsiyet.lower() == \"kadın\":\n",
        "        return \"Hanım\"\n",
        "    else:\n",
        "        return \"\""
      ]
    },
    {
      "cell_type": "code",
      "source": [
        "ad = input(\"Adınızı girin: \")\n",
        "yas = int(input(\"Yaşınızı girin: \"))\n",
        "cinsiyet = input(\"Cinsiyetinizi girin: \")\n",
        "ogrenim = input(\"Öğreniminizi girin(Lise/Üniversite): \")\n",
        "hos = \"Hoşgeldiniz {} {}. {} yaşındasınız. {} mezunu olduğunuz için ehliyet alabilirsiniz. Unutmayın, trafik kurallarına dikkat edin {} {}.\"\n",
        "hoss = hos.format(ad,cins(cinsiyet),yas,ogrenim,ad,cins(cinsiyet))\n",
        "\n",
        "if yas < 18:\n",
        "    print(\"Ehliyet alamazsınız. Yaşınız 18'den küçük.\")\n",
        "elif yas >= 18 and ogrenim.lower() == \"lise\":\n",
        "      print(hoss)\n",
        "elif yas >= 18 and ogrenim.lower() == \"üniversite\":\n",
        "      print(hoss)\n",
        "\n"
      ],
      "metadata": {
        "id": "wWS6R6Lua-to",
        "colab": {
          "base_uri": "https://localhost:8080/"
        },
        "outputId": "1d36027f-5dc6-4fae-bef0-1013c63599dd"
      },
      "execution_count": 18,
      "outputs": [
        {
          "output_type": "stream",
          "name": "stdout",
          "text": [
            "Adınızı girin: Merve\n",
            "Yaşınızı girin: 22\n",
            "Cinsiyetinizi girin: Kadın\n",
            "Öğreniminizi girin(Lise/Üniversite): Üniversite\n",
            "Hoşgeldiniz Merve Hanım. 22 yaşındasınız. Üniversite mezunu olduğunuz için ehliyet alabilirsiniz. Unutmayın, trafik kurallarına dikkat edin Merve Hanım.\n"
          ]
        }
      ]
    }
  ]
}